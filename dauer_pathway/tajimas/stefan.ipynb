{
 "cells": [
  {
   "cell_type": "code",
   "execution_count": 41,
   "metadata": {},
   "outputs": [],
   "source": [
    "import allel\n",
    "import zarr\n",
    "import numcodecs\n",
    "import numpy as np\n",
    "import sys\n",
    "import h5py\n",
    "import matplotlib.pyplot as plt\n",
    "import seaborn as sns\n",
    "import pandas as pd\n",
    "import itertools"
   ]
  },
  {
   "cell_type": "code",
   "execution_count": null,
   "metadata": {},
   "outputs": [],
   "source": []
  },
  {
   "cell_type": "code",
   "execution_count": 42,
   "metadata": {},
   "outputs": [],
   "source": [
    "vcf_path = '/Users/ryanmckeown/Documents/andersen_lab/data_exploration/tajima/III.vcf.gz'\n",
    "hdf5_path = '/Users/ryanmckeown/Documents/andersen_lab/data_exploration/III.h5'"
   ]
  },
  {
   "cell_type": "code",
   "execution_count": 43,
   "metadata": {
    "scrolled": true
   },
   "outputs": [],
   "source": [
    "allel.vcf_to_hdf5(vcf_path, hdf5_path, fields='*', overwrite=True)"
   ]
  },
  {
   "cell_type": "code",
   "execution_count": 44,
   "metadata": {},
   "outputs": [],
   "source": [
    "callset = h5py.File(hdf5_path, mode='r')"
   ]
  },
  {
   "cell_type": "code",
   "execution_count": 45,
   "metadata": {},
   "outputs": [],
   "source": [
    "# initialize stuff\n",
    "chrom = callset['variants/CHROM']\n",
    "pos = callset['variants/POS']\n",
    "gt = callset['calldata/GT']\n",
    "g = allel.GenotypeArray(gt[:, :])\n",
    "ac = g.count_alleles()"
   ]
  },
  {
   "cell_type": "code",
   "execution_count": 46,
   "metadata": {},
   "outputs": [],
   "source": [
    "# pi\n",
    "pi, windows, n_bases, counts = allel.windowed_diversity(pos, ac, size=1000, start = 1)\n",
    "# theta\n",
    "theta_hat_w, windows, n_bases, counts = allel.windowed_watterson_theta(pos, ac, size=1000, start = 1)\n",
    "# tajima's\n",
    "D, windows, counts = allel.windowed_tajima_d(pos, ac, size=1000, min_sites=3, start = 1)\n",
    "# mean of windows for each statistic\n",
    "x = np.asarray(windows).mean(axis=1)"
   ]
  },
  {
   "cell_type": "code",
   "execution_count": 47,
   "metadata": {
    "scrolled": true
   },
   "outputs": [],
   "source": [
    "# output data - whole population"
   ]
  },
  {
   "cell_type": "code",
   "execution_count": 48,
   "metadata": {},
   "outputs": [],
   "source": [
    "pd_output = pd.DataFrame({'chrom':\"III\",\n",
    "              'start':windows[0:,0],\n",
    "              'end':windows[0:,1],\n",
    "              'pi':pi[0:],\n",
    "              'theta':theta_hat_w[0:],\n",
    "              'td':D[0:]})"
   ]
  },
  {
   "cell_type": "code",
   "execution_count": 49,
   "metadata": {},
   "outputs": [],
   "source": [
    "pd_output.to_csv(path_or_buf=\"chromIII_td.csv\")"
   ]
  },
  {
   "cell_type": "code",
   "execution_count": 50,
   "metadata": {},
   "outputs": [],
   "source": [
    "# sliding window"
   ]
  },
  {
   "cell_type": "code",
   "execution_count": 51,
   "metadata": {},
   "outputs": [],
   "source": [
    "# pi\n",
    "pi, windows, n_bases, counts = allel.windowed_diversity(pos, ac, size=10000, step=1000, start = 1)\n",
    "# theta\n",
    "theta_hat_w, windows, n_bases, counts = allel.windowed_watterson_theta(pos, ac, size=10000, step=1000, start = 1)\n",
    "# tajima's\n",
    "D, windows, counts = allel.windowed_tajima_d(pos, ac, size=10000, step=1000, start = 1, min_sites=3)\n",
    "# mean of windows for each statistic\n",
    "x = np.asarray(windows).mean(axis=1)"
   ]
  },
  {
   "cell_type": "code",
   "execution_count": 52,
   "metadata": {},
   "outputs": [],
   "source": [
    "pd_output = pd.DataFrame({'chrom':\"III\",\n",
    "              'start':windows[0:,0],\n",
    "              'end':windows[0:,1],\n",
    "              'pi':pi[0:],\n",
    "              'theta':theta_hat_w[0:],\n",
    "              'td':D[0:]})"
   ]
  },
  {
   "cell_type": "code",
   "execution_count": 53,
   "metadata": {},
   "outputs": [],
   "source": [
    "pd_output.to_csv(path_or_buf=\"chromIII_td_slide.csv\")"
   ]
  },
  {
   "cell_type": "code",
   "execution_count": null,
   "metadata": {},
   "outputs": [],
   "source": []
  }
 ],
 "metadata": {
  "kernelspec": {
   "display_name": "Python 3",
   "language": "python",
   "name": "python3"
  },
  "language_info": {
   "codemirror_mode": {
    "name": "ipython",
    "version": 3
   },
   "file_extension": ".py",
   "mimetype": "text/x-python",
   "name": "python",
   "nbconvert_exporter": "python",
   "pygments_lexer": "ipython3",
   "version": "3.7.10"
  }
 },
 "nbformat": 4,
 "nbformat_minor": 4
}
